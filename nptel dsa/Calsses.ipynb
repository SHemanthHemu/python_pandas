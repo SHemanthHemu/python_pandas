{
 "cells": [
  {
   "cell_type": "code",
   "execution_count": 12,
   "metadata": {},
   "outputs": [],
   "source": [
    "class point:\n",
    "    def __init__(self,a,b):\n",
    "        self.x = a\n",
    "        self.y = b\n",
    "        \n",
    "    def translate (self,deltax,deltay):\n",
    "        self.x += deltax\n",
    "        self.y += deltay\n",
    "\n",
    "    def distance (self):\n",
    "        import math\n",
    "        d = math.sqrt(self.x * self.x + self.y*self.y)\n",
    "        return d"
   ]
  },
  {
   "cell_type": "code",
   "execution_count": 17,
   "metadata": {},
   "outputs": [],
   "source": [
    "p1 = point(2,8)\n",
    "p1.translate(4,4)\n",
    "p1_distance = p1.distance()"
   ]
  },
  {
   "cell_type": "code",
   "execution_count": 18,
   "metadata": {},
   "outputs": [
    {
     "name": "stdout",
     "output_type": "stream",
     "text": [
      "13.416407864998739\n"
     ]
    }
   ],
   "source": [
    "print(p1_distance)"
   ]
  },
  {
   "cell_type": "code",
   "execution_count": 20,
   "metadata": {},
   "outputs": [],
   "source": [
    "class PolarPoint:\n",
    "    def __init__(self,a=0,b=0):\n",
    "        import math\n",
    "        self.r = math.sqrt(a*a+b*b)\n",
    "        if a==0:\n",
    "            self.theta = math.pi/2\n",
    "        else:\n",
    "            self.theta = math.atan(b/a)\n",
    "    def distance (self):\n",
    "        return (self.r)\n",
    "\n",
    "    def translate (self,xdelta,ydelta):\n",
    "        import math\n",
    "        x = self.r*math.cos(self.theta)\n",
    "        y = self.r*math.sin(self.theta)\n",
    "        x += xdelta\n",
    "        y += ydelta\n",
    "        self.r = self.r = math.sqrt(x*x+y*y)\n",
    "        if x==0:\n",
    "            self.theta = math.pi/2\n",
    "        else:\n",
    "            self.theta = math.atan(y/x)\n",
    "        "
   ]
  },
  {
   "cell_type": "code",
   "execution_count": 22,
   "metadata": {},
   "outputs": [
    {
     "name": "stdout",
     "output_type": "stream",
     "text": [
      "20.615528128088304\n"
     ]
    }
   ],
   "source": [
    "p3 = PolarPoint(5,8)\n",
    "p3.translate(8,8)\n",
    "print(p3.distance())"
   ]
  }
 ],
 "metadata": {
  "kernelspec": {
   "display_name": "venv",
   "language": "python",
   "name": "python3"
  },
  "language_info": {
   "codemirror_mode": {
    "name": "ipython",
    "version": 3
   },
   "file_extension": ".py",
   "mimetype": "text/x-python",
   "name": "python",
   "nbconvert_exporter": "python",
   "pygments_lexer": "ipython3",
   "version": "3.12.6"
  }
 },
 "nbformat": 4,
 "nbformat_minor": 2
}
