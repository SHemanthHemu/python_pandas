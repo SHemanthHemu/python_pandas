{
 "cells": [
  {
   "cell_type": "code",
   "execution_count": 2,
   "metadata": {},
   "outputs": [],
   "source": [
    "# With using list\n",
    "# def gcd (m,n):\n",
    "#     common_factors = []\n",
    "#     for i in range(1,min(m,n)+1):\n",
    "#          if m % i == 0 and n % i == 0:\n",
    "#             common_factors.append(i)\n",
    "#     if len(common_factors)==0:\n",
    "#         return -1\n",
    "#     else:\n",
    "#         return common_factors[-1]"
   ]
  },
  {
   "cell_type": "code",
   "execution_count": 3,
   "metadata": {},
   "outputs": [],
   "source": [
    "# Without using list\n",
    "def gcd1(m, n):\n",
    "    mrcf = 1\n",
    "    for i in range(1, min(m, n) + 1):\n",
    "        if m % i == 0 and n % i == 0:\n",
    "            mrcf = i\n",
    "    return mrcf"
   ]
  },
  {
   "cell_type": "code",
   "execution_count": 4,
   "metadata": {},
   "outputs": [],
   "source": [
    "# recurrisive Gcd\n",
    "\n",
    "def gcd2 (m,n):\n",
    "    (a,b)=(max(m,n),min(m,n))\n",
    "    if a%b == 0:\n",
    "        return(b)\n",
    "    else:\n",
    "        return(gcd2(b,a-b))"
   ]
  },
  {
   "cell_type": "code",
   "execution_count": 5,
   "metadata": {},
   "outputs": [],
   "source": [
    "# Euclid's algorithm\n",
    "\n",
    "def gcd3 (m,n):\n",
    "    (a,b) = (max(m,n),min(m,n))\n",
    "    if a%b == 0:\n",
    "        return(b)\n",
    "    else:\n",
    "        return (gcd3(b,a%b))"
   ]
  },
  {
   "cell_type": "code",
   "execution_count": null,
   "metadata": {},
   "outputs": [],
   "source": [
    "# timer class\n",
    "import time\n",
    "\n",
    "\n",
    "class TimerError(Exception):\n",
    "    \"\"\"A custom Exeption used to report errors in use of Timer class\"\"\"\n",
    "class Timer:\n",
    "    def __init__(self):\n",
    "        self._start_time = None\n",
    "        self._elapsed_time = None\n",
    "    def start(self):\n",
    "        \"\"\"Start a new timer\"\"\"\n",
    "        if self._start_time is not None:\n",
    "            raise TimerError(\"Timer is running. use .stop()\")\n",
    "        self._start_time = time.perf_counter()\n",
    "        \n",
    "    def stop (self):\n",
    "        \"\"\" save the elasped time and re-initialized the timer\"\"\"\n",
    "        if self._start_time is None:\n",
    "            raise TimerError(\"Timer is not running. use .start()\")\n",
    "        self._elapsed_time = time.perf_counter()-self._start_time\n",
    "        self._start_time = None\n",
    "        \n",
    "    def elapsed (self):\n",
    "        \"\"\"reported elapsed time\"\"\"\n",
    "        if self._elapsed_time is None:\n",
    "            raise TimerError(\"timer not been run yet. use .start()\")\n",
    "        return (self._elapsed_time)\n",
    "    \n",
    "    def __str__(self):\n",
    "        \"\"\"print() prints elapsed time\"\"\"\n",
    "        return (str(self._elapsed_time))\n",
    "        \n",
    "        \n",
    "        "
   ]
  },
  {
   "cell_type": "code",
   "execution_count": 15,
   "metadata": {},
   "outputs": [
    {
     "name": "stdout",
     "output_type": "stream",
     "text": [
      "2 1.7799902707338333e-05\n",
      "3 0.0001758001744747162\n",
      "4 0.0018421998247504234\n",
      "5 0.014904099982231855\n",
      "6 0.18473049998283386\n",
      "7 0.8673979002051055\n",
      "8 9.127520699985325\n"
     ]
    }
   ],
   "source": [
    "t = Timer()\n",
    "for j in range(2,9):\n",
    "    t.start()\n",
    "    n=0\n",
    "    for i in range(10**j):\n",
    "        n = n+1\n",
    "    t.stop()\n",
    "    print(j,t)"
   ]
  },
  {
   "cell_type": "code",
   "execution_count": 7,
   "metadata": {},
   "outputs": [
    {
     "name": "stdout",
     "output_type": "stream",
     "text": [
      "8.699996396899223e-05\n"
     ]
    }
   ],
   "source": [
    "import time\n",
    "start = time.perf_counter()\n",
    "gcd1(2,9999988)\n",
    "end = time.perf_counter()\n",
    "elapsTime = (end-start)\n",
    "print(elapsTime)"
   ]
  },
  {
   "cell_type": "markdown",
   "metadata": {},
   "source": [
    "#### exception handling"
   ]
  },
  {
   "cell_type": "code",
   "execution_count": 8,
   "metadata": {},
   "outputs": [
    {
     "name": "stdout",
     "output_type": "stream",
     "text": [
      "3\n",
      "Code exicuted success fully\n"
     ]
    }
   ],
   "source": [
    "try:\n",
    "    gcd3(6,777)\n",
    "except NameError as e:\n",
    "    print(f\"{e.name}\" + \" was not defined\")\n",
    "except Exception as e:\n",
    "    print(f\"an exception occured {e}\")\n",
    "else:\n",
    "    print(gcd3(6,777))\n",
    "    print(\"Code exicuted success fully\")"
   ]
  }
 ],
 "metadata": {
  "kernelspec": {
   "display_name": "venv",
   "language": "python",
   "name": "python3"
  },
  "language_info": {
   "codemirror_mode": {
    "name": "ipython",
    "version": 3
   },
   "file_extension": ".py",
   "mimetype": "text/x-python",
   "name": "python",
   "nbconvert_exporter": "python",
   "pygments_lexer": "ipython3",
   "version": "3.12.6"
  }
 },
 "nbformat": 4,
 "nbformat_minor": 2
}
