{
 "cells": [
  {
   "cell_type": "code",
   "execution_count": 1,
   "metadata": {},
   "outputs": [],
   "source": [
    "import pandas as pd"
   ]
  },
  {
   "cell_type": "code",
   "execution_count": 5,
   "metadata": {},
   "outputs": [],
   "source": [
    "Rain_fall_df = pd.read_csv(r'C:\\Users\\heman\\Desktop\\project 1\\raw csv data\\Rain fall.csv')\n",
    "population_df = pd.read_csv(r'C:\\Users\\heman\\Desktop\\project 1\\raw csv data\\population.csv')\n",
    "Milk_production_df = pd.read_csv(r'C:\\Users\\heman\\Desktop\\project 1\\raw csv data\\Milk production.csv')\n",
    "Live_Stock_prd_animals_df = pd.read_csv(r'C:\\Users\\heman\\Desktop\\project 1\\raw csv data\\Live Stock prd animals.csv')"
   ]
  },
  {
   "cell_type": "code",
   "execution_count": 27,
   "metadata": {},
   "outputs": [],
   "source": [
    "#write to excel\n",
    "Rain_fall_df\n",
    "Rain_fall_df.to_excel(r'C:\\Users\\heman\\Desktop\\project 1\\Output\\rain fall.xlsx')"
   ]
  },
  {
   "cell_type": "code",
   "execution_count": 28,
   "metadata": {},
   "outputs": [],
   "source": [
    "#html \n",
    "population_df\n",
    "population_df.to_html(r'C:\\Users\\heman\\Desktop\\project 1\\Output\\population.html')"
   ]
  },
  {
   "cell_type": "code",
   "execution_count": 30,
   "metadata": {},
   "outputs": [],
   "source": [
    "#json\n",
    "Milk_production_df\n",
    "Milk_production_df.to_json(r'C:\\Users\\heman\\Desktop\\project 1\\Output\\milk production.json',orient='records')"
   ]
  },
  {
   "cell_type": "code",
   "execution_count": 31,
   "metadata": {},
   "outputs": [],
   "source": [
    "#csv\n",
    "Live_Stock_prd_animals_df\n",
    "Live_Stock_prd_animals_df.to_csv(r'C:\\Users\\heman\\Desktop\\project 1\\Output\\live prd.csv')"
   ]
  }
 ],
 "metadata": {
  "kernelspec": {
   "display_name": "venv",
   "language": "python",
   "name": "python3"
  },
  "language_info": {
   "codemirror_mode": {
    "name": "ipython",
    "version": 3
   },
   "file_extension": ".py",
   "mimetype": "text/x-python",
   "name": "python",
   "nbconvert_exporter": "python",
   "pygments_lexer": "ipython3",
   "version": "3.12.6"
  }
 },
 "nbformat": 4,
 "nbformat_minor": 2
}
